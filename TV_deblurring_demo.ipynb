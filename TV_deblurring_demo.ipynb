   "cell_type": "code",
   "execution_count": 3,
   "metadata": {},
   "outputs": [],
   "source": [
    "model = SVBR(random_state=42)"
   ]
  },
  {
   "cell_type": "code",
   "execution_count": 4,
   "metadata": {},
   "outputs": [
    {
     "name": "stdout",
     "output_type": "stream",
     "text": [
      "Num of iterations is 340\n"
     ]
    }
   ],
   "source": [
    "model.fit(X[:th,:], y[:th], gamma=53, lam=4e-3, mode='monolithic', M=10, verbose=True)"
   ]
  },
  {
   "cell_type": "code",
   "execution_count": 5,
   "metadata": {},
   "outputs": [
    {
     "data": {
      "text/plain": [
       "array([ 4.94098490e-01, -1.37282819e+02,  4.93095698e+02,  2.95867911e+02,\n",
       "       -2.14855747e+02, -1.26424806e-07, -1.81625564e+02,  4.43585154e+01,\n",
       "        6.13446256e+02,  2.50830589e-08])"
      ]
     },
     "execution_count": 5,
     "metadata": {},
     "output_type": "execute_result"
    }
   ],
   "source": [
    "# MAP\n",
    "model.mu"
   ]
  },
  {
   "cell_type": "code",
   "execution_count": 6,
   "metadata": {},
   "outputs": [
    {
     "data": {
      "text/plain": [
       "array([  13.14068633, -141.65545108,  493.42402805,  294.90683133,\n",
       "       -177.64735095,  -58.27870248, -177.58902924,   85.88729411,\n",
       "        585.173606  ,    1.65485441])"
      ]
     },
     "execution_count": 6,
     "metadata": {},
     "output_type": "execute_result"
    }
   ],
   "source": [
    "# Mean\n",
    "model.m"
   ]
  },
  {
   "cell_type": "code",
   "execution_count": 7,
   "metadata": {},
   "outputs": [
    {
     "data": {
      "text/plain": [
       "array([[ 2920.58024771,  -279.76178938,   -57.70716969,  -604.82109605],\n",
       "       [ -279.76178938,  3500.62250235,   449.99885695,  -671.25680729],\n",
       "       [  -57.70716969,   449.99885695,  4638.62904697, -1003.13553582],\n",
       "       [ -604.82109605,  -671.25680729, -1003.13553582,  4254.0059073 ]])"
      ]
     },
     "execution_count": 7,
     "metadata": {},
     "output_type": "execute_result"
    }
   ],
   "source": [
 "nbformat": 4,
 "nbformat_minor": 4
}
